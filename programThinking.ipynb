{
 "cells": [
  {
   "cell_type": "markdown",
   "id": "d197f4ea",
   "metadata": {},
   "source": [
    "# Programmatic Thinking"
   ]
  },
  {
   "cell_type": "markdown",
   "id": "b9d67460",
   "metadata": {},
   "source": [
    "## 1.1 Arithmetic operators\n",
    "\n",
    "<font color=\"red\">Arithmetic operator</font> - Symbols that represent an arithmetic operation. + - / * ** //"
   ]
  },
  {
   "cell_type": "code",
   "execution_count": 1,
   "id": "d008b61c",
   "metadata": {},
   "outputs": [
    {
     "data": {
      "text/plain": [
       "42"
      ]
     },
     "execution_count": 1,
     "metadata": {},
     "output_type": "execute_result"
    }
   ],
   "source": [
    "30 + 12"
   ]
  },
  {
   "cell_type": "code",
   "execution_count": 2,
   "id": "add485d7",
   "metadata": {},
   "outputs": [
    {
     "data": {
      "text/plain": [
       "42"
      ]
     },
     "execution_count": 2,
     "metadata": {},
     "output_type": "execute_result"
    }
   ],
   "source": [
    "43 - 1"
   ]
  },
  {
   "cell_type": "code",
   "execution_count": 3,
   "id": "43526e68",
   "metadata": {},
   "outputs": [
    {
     "data": {
      "text/plain": [
       "42"
      ]
     },
     "execution_count": 3,
     "metadata": {},
     "output_type": "execute_result"
    }
   ],
   "source": [
    "6 * 7"
   ]
  },
  {
   "cell_type": "code",
   "execution_count": 4,
   "id": "74d7e4ec",
   "metadata": {},
   "outputs": [
    {
     "data": {
      "text/plain": [
       "42.0"
      ]
     },
     "execution_count": 4,
     "metadata": {},
     "output_type": "execute_result"
    }
   ],
   "source": [
    "84 / 2"
   ]
  },
  {
   "cell_type": "markdown",
   "id": "3255a033",
   "metadata": {},
   "source": [
    "<b>integers</b> - represents numbers with no fractional or decimal part\n",
    "\n",
    "<b>floating-point numbers</b> - represent integers and numbers with a decimal point"
   ]
  },
  {
   "cell_type": "code",
   "execution_count": 5,
   "id": "41553ec1",
   "metadata": {},
   "outputs": [
    {
     "data": {
      "text/plain": [
       "42"
      ]
     },
     "execution_count": 5,
     "metadata": {},
     "output_type": "execute_result"
    }
   ],
   "source": [
    "84 // 2 # Floor Division (Integer Division)- it divides and only gives you the numbers before the decimal.as_integer_ratio\n"
   ]
  },
  {
   "cell_type": "markdown",
   "id": "0de1cd36",
   "metadata": {},
   "source": []
  },
  {
   "cell_type": "code",
   "execution_count": 6,
   "id": "ea934797",
   "metadata": {},
   "outputs": [
    {
     "data": {
      "text/plain": [
       "42"
      ]
     },
     "execution_count": 6,
     "metadata": {},
     "output_type": "execute_result"
    }
   ],
   "source": [
    "85 // 2"
   ]
  },
  {
   "cell_type": "code",
   "execution_count": 7,
   "id": "5941eeb4",
   "metadata": {},
   "outputs": [
    {
     "data": {
      "text/plain": [
       "49"
      ]
     },
     "execution_count": 7,
     "metadata": {},
     "output_type": "execute_result"
    }
   ],
   "source": [
    "# Exponents - when you raise a number to a power of another number\n",
    "7 ** 2"
   ]
  },
  {
   "cell_type": "code",
   "execution_count": 8,
   "id": "b0b2ee63",
   "metadata": {},
   "outputs": [
    {
     "data": {
      "text/plain": [
       "129.64181424216494"
      ]
     },
     "execution_count": 8,
     "metadata": {},
     "output_type": "execute_result"
    }
   ],
   "source": [
    "7 ** 2.5"
   ]
  },
  {
   "cell_type": "code",
   "execution_count": 9,
   "id": "2de772c3",
   "metadata": {},
   "outputs": [],
   "source": [
    "# 7 ^ 2 - in some languages you use a caret for exponents"
   ]
  },
  {
   "cell_type": "markdown",
   "id": "efb62db0",
   "metadata": {},
   "source": [
    "## 1.2 Expressions"
   ]
  },
  {
   "cell_type": "markdown",
   "id": "3ca2d237",
   "metadata": {},
   "source": [
    "<b>Expression</b> - A collection of operators and numbers\n"
   ]
  },
  {
   "cell_type": "code",
   "execution_count": 10,
   "id": "0507c2d1",
   "metadata": {},
   "outputs": [
    {
     "data": {
      "text/plain": [
       "42"
      ]
     },
     "execution_count": 10,
     "metadata": {},
     "output_type": "execute_result"
    }
   ],
   "source": [
    "6 + 6 ** 2"
   ]
  },
  {
   "cell_type": "code",
   "execution_count": 11,
   "id": "8cfd3f0a",
   "metadata": {},
   "outputs": [
    {
     "data": {
      "text/plain": [
       "42"
      ]
     },
     "execution_count": 11,
     "metadata": {},
     "output_type": "execute_result"
    }
   ],
   "source": [
    "12 + 5 * 6"
   ]
  },
  {
   "cell_type": "code",
   "execution_count": 12,
   "id": "9beab183",
   "metadata": {},
   "outputs": [
    {
     "data": {
      "text/plain": [
       "102"
      ]
     },
     "execution_count": 12,
     "metadata": {},
     "output_type": "execute_result"
    }
   ],
   "source": [
    "(12 + 5) * 6"
   ]
  },
  {
   "cell_type": "markdown",
   "id": "254457a7",
   "metadata": {},
   "source": [
    "## 1.3 Arithmetic functions"
   ]
  },
  {
   "cell_type": "code",
   "execution_count": 13,
   "id": "e0489196",
   "metadata": {},
   "outputs": [
    {
     "data": {
      "text/plain": [
       "42"
      ]
     },
     "execution_count": 13,
     "metadata": {},
     "output_type": "execute_result"
    }
   ],
   "source": [
    "round(42.4) # round the number in the parenthesis"
   ]
  },
  {
   "cell_type": "code",
   "execution_count": 14,
   "id": "b88a85ed",
   "metadata": {},
   "outputs": [
    {
     "data": {
      "text/plain": [
       "42"
      ]
     },
     "execution_count": 14,
     "metadata": {},
     "output_type": "execute_result"
    }
   ],
   "source": [
    "round(41.6)"
   ]
  },
  {
   "cell_type": "code",
   "execution_count": 15,
   "id": "f71a9f70",
   "metadata": {},
   "outputs": [
    {
     "data": {
      "text/plain": [
       "42"
      ]
     },
     "execution_count": 15,
     "metadata": {},
     "output_type": "execute_result"
    }
   ],
   "source": [
    "round(41.5)"
   ]
  },
  {
   "cell_type": "code",
   "execution_count": 16,
   "id": "a40d1f4d",
   "metadata": {},
   "outputs": [
    {
     "data": {
      "text/plain": [
       "42"
      ]
     },
     "execution_count": 16,
     "metadata": {},
     "output_type": "execute_result"
    }
   ],
   "source": [
    "# the abs function - computes the absolute value of a number\n",
    "abs(42)"
   ]
  },
  {
   "cell_type": "code",
   "execution_count": 17,
   "id": "9d231345",
   "metadata": {},
   "outputs": [
    {
     "data": {
      "text/plain": [
       "42"
      ]
     },
     "execution_count": 17,
     "metadata": {},
     "output_type": "execute_result"
    }
   ],
   "source": [
    "abs(-42)"
   ]
  },
  {
   "cell_type": "code",
   "execution_count": 18,
   "id": "b4fd9821",
   "metadata": {},
   "outputs": [
    {
     "ename": "SyntaxError",
     "evalue": "invalid syntax (816474439.py, line 1)",
     "output_type": "error",
     "traceback": [
      "  \u001b[36mCell\u001b[39m\u001b[36m \u001b[39m\u001b[32mIn[18]\u001b[39m\u001b[32m, line 1\u001b[39m\n\u001b[31m    \u001b[39m\u001b[31mabs 42\u001b[39m\n        ^\n\u001b[31mSyntaxError\u001b[39m\u001b[31m:\u001b[39m invalid syntax\n"
     ]
    }
   ],
   "source": [
    "abs 42"
   ]
  },
  {
   "cell_type": "markdown",
   "id": "405ee0a6",
   "metadata": {},
   "source": [
    "## 1.4 Strings\n",
    "\n",
    "<b>Strings</b> - In Python or in any other programming language, strings represent a sequence of characters contained in quotes (either single or double)."
   ]
  },
  {
   "cell_type": "code",
   "execution_count": null,
   "id": "4f10df11",
   "metadata": {},
   "outputs": [
    {
     "data": {
      "text/plain": [
       "'Hello'"
      ]
     },
     "execution_count": 19,
     "metadata": {},
     "output_type": "execute_result"
    }
   ],
   "source": [
    "'Hello' # single quotes"
   ]
  },
  {
   "cell_type": "code",
   "execution_count": 20,
   "id": "f6265e01",
   "metadata": {},
   "outputs": [
    {
     "data": {
      "text/plain": [
       "'world'"
      ]
     },
     "execution_count": 20,
     "metadata": {},
     "output_type": "execute_result"
    }
   ],
   "source": [
    "\"world\" # double quotes"
   ]
  },
  {
   "cell_type": "code",
   "execution_count": 21,
   "id": "1aa69d11",
   "metadata": {},
   "outputs": [
    {
     "ename": "SyntaxError",
     "evalue": "unterminated string literal (detected at line 1) (2765662568.py, line 1)",
     "output_type": "error",
     "traceback": [
      "  \u001b[36mCell\u001b[39m\u001b[36m \u001b[39m\u001b[32mIn[21]\u001b[39m\u001b[32m, line 1\u001b[39m\n\u001b[31m    \u001b[39m\u001b[31m\"Hello world'\u001b[39m\n    ^\n\u001b[31mSyntaxError\u001b[39m\u001b[31m:\u001b[39m unterminated string literal (detected at line 1)\n"
     ]
    }
   ],
   "source": [
    "\"Hello world'"
   ]
  },
  {
   "cell_type": "code",
   "execution_count": 22,
   "id": "5e50b5a3",
   "metadata": {},
   "outputs": [
    {
     "data": {
      "text/plain": [
       "\"it's a small world\""
      ]
     },
     "execution_count": 22,
     "metadata": {},
     "output_type": "execute_result"
    }
   ],
   "source": [
    "\"it's a small world\""
   ]
  },
  {
   "cell_type": "code",
   "execution_count": 23,
   "id": "e26d5fbd",
   "metadata": {},
   "outputs": [
    {
     "data": {
      "text/plain": [
       "\"It's a small world\""
      ]
     },
     "execution_count": 23,
     "metadata": {},
     "output_type": "execute_result"
    }
   ],
   "source": [
    "'It\\'s a small world'"
   ]
  },
  {
   "cell_type": "markdown",
   "id": "0b1a56e1",
   "metadata": {},
   "source": [
    "### + operator with strings:\n",
    "\n",
    "<b>Concatination</b> - taking multiple strings and putting them together"
   ]
  },
  {
   "cell_type": "code",
   "execution_count": 24,
   "id": "72eade86",
   "metadata": {},
   "outputs": [
    {
     "data": {
      "text/plain": [
       "\"Well, it's a small world.\""
      ]
     },
     "execution_count": 24,
     "metadata": {},
     "output_type": "execute_result"
    }
   ],
   "source": [
    "'Well, ' + \"it's a small \" + 'world.'"
   ]
  },
  {
   "cell_type": "markdown",
   "id": "e04f86fc",
   "metadata": {},
   "source": [
    "### * operator with strings\n",
    "\n",
    "- it makes multiple copies of a string and concatinates them together"
   ]
  },
  {
   "cell_type": "code",
   "execution_count": 25,
   "id": "a45bc0a6",
   "metadata": {},
   "outputs": [
    {
     "data": {
      "text/plain": [
       "'Spam, Spam, Spam, Spam, '"
      ]
     },
     "execution_count": 25,
     "metadata": {},
     "output_type": "execute_result"
    }
   ],
   "source": [
    "'Spam, ' * 4"
   ]
  },
  {
   "cell_type": "markdown",
   "id": "89ea05bd",
   "metadata": {},
   "source": [
    "### String functions"
   ]
  },
  {
   "cell_type": "code",
   "execution_count": 26,
   "id": "50142f66",
   "metadata": {},
   "outputs": [
    {
     "data": {
      "text/plain": [
       "4"
      ]
     },
     "execution_count": 26,
     "metadata": {},
     "output_type": "execute_result"
    }
   ],
   "source": [
    "len('Spam') # the length of the string"
   ]
  },
  {
   "cell_type": "code",
   "execution_count": 27,
   "id": "5ac1ff83",
   "metadata": {},
   "outputs": [
    {
     "ename": "SyntaxError",
     "evalue": "invalid syntax (3321520974.py, line 1)",
     "output_type": "error",
     "traceback": [
      "  \u001b[36mCell\u001b[39m\u001b[36m \u001b[39m\u001b[32mIn[27]\u001b[39m\u001b[32m, line 1\u001b[39m\n\u001b[31m    \u001b[39m\u001b[31m`Hello`\u001b[39m\n    ^\n\u001b[31mSyntaxError\u001b[39m\u001b[31m:\u001b[39m invalid syntax\n"
     ]
    }
   ],
   "source": [
    "`Hello`"
   ]
  },
  {
   "cell_type": "markdown",
   "id": "8058bc4b",
   "metadata": {},
   "source": [
    "## 1.5 Values and Types\n",
    "\n",
    "Multiple types of data:\n",
    "* Integers\n",
    "* Floats\n",
    "* Strings\n",
    "* Boolean\n",
    "* NULL\n",
    "\n",
    "<b>Type</b> - What kind of value is the data that we are using. Values can belong to a type of data."
   ]
  },
  {
   "cell_type": "code",
   "execution_count": 1,
   "id": "bfc2fc46",
   "metadata": {},
   "outputs": [
    {
     "data": {
      "text/plain": [
       "int"
      ]
     },
     "execution_count": 1,
     "metadata": {},
     "output_type": "execute_result"
    }
   ],
   "source": [
    "# Python type function\n",
    "\n",
    "type(2)"
   ]
  },
  {
   "cell_type": "code",
   "execution_count": 2,
   "id": "eda5dbdf",
   "metadata": {},
   "outputs": [
    {
     "data": {
      "text/plain": [
       "float"
      ]
     },
     "execution_count": 2,
     "metadata": {},
     "output_type": "execute_result"
    }
   ],
   "source": [
    "type(2.4)"
   ]
  },
  {
   "cell_type": "code",
   "execution_count": 3,
   "id": "9232056a",
   "metadata": {},
   "outputs": [
    {
     "data": {
      "text/plain": [
       "bool"
      ]
     },
     "execution_count": 3,
     "metadata": {},
     "output_type": "execute_result"
    }
   ],
   "source": [
    "type(True) "
   ]
  },
  {
   "cell_type": "code",
   "execution_count": 4,
   "id": "b3414d12",
   "metadata": {},
   "outputs": [
    {
     "data": {
      "text/plain": [
       "str"
      ]
     },
     "execution_count": 4,
     "metadata": {},
     "output_type": "execute_result"
    }
   ],
   "source": [
    "type(\"Elijah's Haircut\")"
   ]
  },
  {
   "cell_type": "code",
   "execution_count": 5,
   "id": "ea2973ee",
   "metadata": {},
   "outputs": [
    {
     "data": {
      "text/plain": [
       "42"
      ]
     },
     "execution_count": 5,
     "metadata": {},
     "output_type": "execute_result"
    }
   ],
   "source": [
    "int(42.9)"
   ]
  },
  {
   "cell_type": "code",
   "execution_count": 6,
   "id": "e39432f4",
   "metadata": {},
   "outputs": [
    {
     "data": {
      "text/plain": [
       "42.0"
      ]
     },
     "execution_count": 6,
     "metadata": {},
     "output_type": "execute_result"
    }
   ],
   "source": [
    "float(42)"
   ]
  },
  {
   "cell_type": "code",
   "execution_count": 7,
   "id": "c35c7693",
   "metadata": {},
   "outputs": [
    {
     "data": {
      "text/plain": [
       "'42'"
      ]
     },
     "execution_count": 7,
     "metadata": {},
     "output_type": "execute_result"
    }
   ],
   "source": [
    "str(42)"
   ]
  },
  {
   "cell_type": "code",
   "execution_count": 8,
   "id": "1678cbaa",
   "metadata": {},
   "outputs": [
    {
     "data": {
      "text/plain": [
       "'425'"
      ]
     },
     "execution_count": 8,
     "metadata": {},
     "output_type": "execute_result"
    }
   ],
   "source": [
    "'42' + '5'"
   ]
  },
  {
   "cell_type": "code",
   "execution_count": 9,
   "id": "ebfd212e",
   "metadata": {},
   "outputs": [
    {
     "ename": "TypeError",
     "evalue": "unsupported operand type(s) for /: 'str' and 'int'",
     "output_type": "error",
     "traceback": [
      "\u001b[31m---------------------------------------------------------------------------\u001b[39m",
      "\u001b[31mTypeError\u001b[39m                                 Traceback (most recent call last)",
      "\u001b[36mCell\u001b[39m\u001b[36m \u001b[39m\u001b[32mIn[9]\u001b[39m\u001b[32m, line 1\u001b[39m\n\u001b[32m----> \u001b[39m\u001b[32m1\u001b[39m \u001b[33;43m'\u001b[39;49m\u001b[33;43m126\u001b[39;49m\u001b[33;43m'\u001b[39;49m\u001b[43m \u001b[49m\u001b[43m/\u001b[49m\u001b[43m \u001b[49m\u001b[32;43m3\u001b[39;49m\n",
      "\u001b[31mTypeError\u001b[39m: unsupported operand type(s) for /: 'str' and 'int'"
     ]
    }
   ],
   "source": [
    "'126' / 3"
   ]
  },
  {
   "cell_type": "code",
   "execution_count": 10,
   "id": "092a9b3a",
   "metadata": {},
   "outputs": [
    {
     "data": {
      "text/plain": [
       "42.0"
      ]
     },
     "execution_count": 10,
     "metadata": {},
     "output_type": "execute_result"
    }
   ],
   "source": [
    "int('126') / 3"
   ]
  },
  {
   "cell_type": "code",
   "execution_count": null,
   "id": "ac0a99b7",
   "metadata": {},
   "outputs": [
    {
     "ename": "TypeError",
     "evalue": "unsupported operand type(s) for -: 'int' and 'str'",
     "output_type": "error",
     "traceback": [
      "\u001b[31m---------------------------------------------------------------------------\u001b[39m",
      "\u001b[31mTypeError\u001b[39m                                 Traceback (most recent call last)",
      "\u001b[36mCell\u001b[39m\u001b[36m \u001b[39m\u001b[32mIn[11]\u001b[39m\u001b[32m, line 3\u001b[39m\n\u001b[32m      1\u001b[39m age = \u001b[38;5;28minput\u001b[39m(\u001b[33m\"\u001b[39m\u001b[33mPlease enter your age: \u001b[39m\u001b[33m\"\u001b[39m)\n\u001b[32m----> \u001b[39m\u001b[32m3\u001b[39m birthYear = \u001b[32;43m2025\u001b[39;49m\u001b[43m \u001b[49m\u001b[43m-\u001b[49m\u001b[43m \u001b[49m\u001b[43mage\u001b[49m\n\u001b[32m      4\u001b[39m \u001b[38;5;28mprint\u001b[39m(birthYear)\n",
      "\u001b[31mTypeError\u001b[39m: unsupported operand type(s) for -: 'int' and 'str'"
     ]
    }
   ],
   "source": [
    "age = input(\"Please enter your age: \") \n",
    "# All data collected from an input statement is ALWAYS a string\n",
    "\n",
    "birthYear = 2025 - age\n",
    "print(birthYear)"
   ]
  },
  {
   "cell_type": "code",
   "execution_count": 12,
   "id": "27b4fe81",
   "metadata": {},
   "outputs": [
    {
     "name": "stdout",
     "output_type": "stream",
     "text": [
      "1974\n"
     ]
    }
   ],
   "source": [
    "age = int(input(\"Please enter your age: \"))\n",
    "# All data collected from an input statement is ALWAYS a string\n",
    "\n",
    "birthYear = 2025 - age\n",
    "print(birthYear)"
   ]
  },
  {
   "cell_type": "code",
   "execution_count": 13,
   "id": "bfa18ac3",
   "metadata": {},
   "outputs": [
    {
     "data": {
      "text/plain": [
       "(1, 0, 0)"
      ]
     },
     "execution_count": 13,
     "metadata": {},
     "output_type": "execute_result"
    }
   ],
   "source": [
    "1,000,000"
   ]
  },
  {
   "cell_type": "code",
   "execution_count": 14,
   "id": "ce8b79db",
   "metadata": {},
   "outputs": [
    {
     "data": {
      "text/plain": [
       "1000000"
      ]
     },
     "execution_count": 14,
     "metadata": {},
     "output_type": "execute_result"
    }
   ],
   "source": [
    "1000000"
   ]
  },
  {
   "cell_type": "code",
   "execution_count": 15,
   "id": "11ae0712",
   "metadata": {},
   "outputs": [
    {
     "ename": "SyntaxError",
     "evalue": "invalid syntax (1797962719.py, line 1)",
     "output_type": "error",
     "traceback": [
      "  \u001b[36mCell\u001b[39m\u001b[36m \u001b[39m\u001b[32mIn[15]\u001b[39m\u001b[32m, line 1\u001b[39m\n\u001b[31m    \u001b[39m\u001b[31m1.000.000\u001b[39m\n         ^\n\u001b[31mSyntaxError\u001b[39m\u001b[31m:\u001b[39m invalid syntax\n"
     ]
    }
   ],
   "source": [
    "1.000.000"
   ]
  },
  {
   "cell_type": "code",
   "execution_count": 16,
   "id": "0e9ddbcc",
   "metadata": {},
   "outputs": [
    {
     "data": {
      "text/plain": [
       "1024"
      ]
     },
     "execution_count": 16,
     "metadata": {},
     "output_type": "execute_result"
    }
   ],
   "source": [
    "1024"
   ]
  },
  {
   "cell_type": "code",
   "execution_count": null,
   "id": "0bd783d7",
   "metadata": {},
   "outputs": [
    {
     "data": {
      "text/plain": [
       "42"
      ]
     },
     "execution_count": 17,
     "metadata": {},
     "output_type": "execute_result"
    }
   ],
   "source": [
    "round(42.5)\n",
    "#"
   ]
  },
  {
   "cell_type": "markdown",
   "id": "893df11a",
   "metadata": {},
   "source": [
    "## 1.9.5 Exercise"
   ]
  },
  {
   "cell_type": "markdown",
   "id": "c936d3a8",
   "metadata": {},
   "source": [
    "The following questions give you a chance to practice writing arithmetic expressions.\n",
    "\n",
    "1. How many seconds are there in 42 minutes 42 seconds?\n",
    "2. How many miles are there in 10 kilometers? HINT: there are 1.61 kilometers in a mile\n",
    "3. If you run a 10 kilometer race in 42 minutes 42 seconds, what is your average pace in seconds per mile?\n",
    "4. What is your average pace in minutes and seconds per mile?\n",
    "5. What is your average speed in miles per hour?"
   ]
  },
  {
   "cell_type": "code",
   "execution_count": null,
   "id": "8f1be27d",
   "metadata": {},
   "outputs": [
    {
     "name": "stdout",
     "output_type": "stream",
     "text": [
      "2562 seconds in 42 minutes 42 seconds.\n"
     ]
    }
   ],
   "source": [
    "# 1. How many seconds are there in 42 minutes 42 seconds?\n",
    "\n",
    "seconds = 42 * 60\n",
    "tot_secs = seconds + 42\n",
    "print(str(tot_secs) + \" seconds in 42 minutes 42 seconds.\" )\n"
   ]
  },
  {
   "cell_type": "code",
   "execution_count": 22,
   "id": "fae5aca9",
   "metadata": {},
   "outputs": [
    {
     "name": "stdout",
     "output_type": "stream",
     "text": [
      "6.21\n"
     ]
    }
   ],
   "source": [
    "# 2. How many miles are there in 10 kilometers? HINT: there are 1.61 kilometers in a mile\n",
    "\n",
    "miles = round(10/1.61, 2)\n",
    "\n",
    "print(miles)"
   ]
  },
  {
   "cell_type": "code",
   "execution_count": null,
   "id": "b51a6b5e",
   "metadata": {},
   "outputs": [
    {
     "name": "stdout",
     "output_type": "stream",
     "text": [
      "412.56  seconds per mile.\n"
     ]
    }
   ],
   "source": [
    "# 3. If you run a 10 kilometer race in 42 minutes 42 seconds, \n",
    "# what is your average pace in seconds per mile?\n",
    "\n",
    "secsPerMile = tot_secs / miles\n",
    "\n",
    "print(round(secsPerMile, 2), \"seconds per mile.\")\n"
   ]
  },
  {
   "cell_type": "code",
   "execution_count": 27,
   "id": "57202469",
   "metadata": {},
   "outputs": [
    {
     "name": "stdout",
     "output_type": "stream",
     "text": [
      "6.88 is the pace per mile.\n"
     ]
    }
   ],
   "source": [
    "# 4. What is your average pace in minutes and seconds per mile?\n",
    "avg_pace = secsPerMile / 60\n",
    "\n",
    "print(round(avg_pace, 2), \"is the pace per mile.\")"
   ]
  },
  {
   "cell_type": "code",
   "execution_count": 29,
   "id": "fa9c2695",
   "metadata": {},
   "outputs": [
    {
     "name": "stdout",
     "output_type": "stream",
     "text": [
      "0.11460010735373055\n"
     ]
    }
   ],
   "source": [
    "# 5. What is your average speed in miles per hour?\n",
    "avg_mph = (avg_pace / 60)\n",
    "\n",
    "print(avg_mph)"
   ]
  },
  {
   "cell_type": "code",
   "execution_count": 33,
   "id": "f465ad8c",
   "metadata": {},
   "outputs": [
    {
     "name": "stdout",
     "output_type": "stream",
     "text": [
      "Average speed (mph):  8.73\n"
     ]
    }
   ],
   "source": [
    "hours = tot_secs / 3600 # convert total time to hours\n",
    "avg_speed_mph = miles / hours\n",
    "\n",
    "print(\"Average speed (mph): \", round(avg_speed_mph, 2))"
   ]
  },
  {
   "cell_type": "code",
   "execution_count": null,
   "id": "010f96db",
   "metadata": {},
   "outputs": [],
   "source": []
  }
 ],
 "metadata": {
  "kernelspec": {
   "display_name": "Python 3",
   "language": "python",
   "name": "python3"
  },
  "language_info": {
   "codemirror_mode": {
    "name": "ipython",
    "version": 3
   },
   "file_extension": ".py",
   "mimetype": "text/x-python",
   "name": "python",
   "nbconvert_exporter": "python",
   "pygments_lexer": "ipython3",
   "version": "3.12.1"
  }
 },
 "nbformat": 4,
 "nbformat_minor": 5
}
